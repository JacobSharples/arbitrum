{
 "cells": [
  {
   "cell_type": "markdown",
   "metadata": {},
   "source": [
    "# Finding Batches from Arbitrum One Blocks\n",
    "This script uses a bisection method to find each Arbitrum One blocks' corresponding batch number.\n",
    "\n",
    "A **batch** is a bundle of Arbitrum One blocks that are compressed and posted back to Ethereum."
   ]
  },
  {
   "cell_type": "code",
   "execution_count": 1,
   "metadata": {},
   "outputs": [],
   "source": [
    "import pandas as pd\n",
    "from web3 import Web3, HTTPProvider\n",
    "import tqdm"
   ]
  },
  {
   "cell_type": "code",
   "execution_count": 165,
   "metadata": {},
   "outputs": [],
   "source": [
    "w3 = Web3(HTTPProvider(''))"
   ]
  },
  {
   "cell_type": "code",
   "execution_count": 166,
   "metadata": {},
   "outputs": [],
   "source": [
    "def get_batch(l2_block: int) -> int:\n",
    "    l1_block = w3.eth.call(\n",
    "            transaction={\n",
    "                'to': '0x00000000000000000000000000000000000000C8',\n",
    "                'data': '0x81f1adaf' + hex(l2_block)[2:].zfill(64)\n",
    "                }\n",
    "        )\n",
    "    \n",
    "    return int.from_bytes(l1_block)\n",
    "\n",
    "def increment_block(block_num, step=1):\n",
    "    return (block_num + step, get_batch(block_num + step))\n",
    "\n",
    "def decrement_block(block_num, step=1):\n",
    "    return (block_num - step, get_batch(block_num - step))\n",
    "\n",
    "def find_block_range(start_block, initial_step):\n",
    "    cur_step = initial_step\n",
    "    prev_block = start_block\n",
    "    cur_block = prev_block\n",
    "    prev_batch = get_batch(start_block)\n",
    "    cur_batch = prev_batch + 1\n",
    "    target_batch = cur_batch \n",
    "\n",
    "    # Find the consecutive blocks that have the prev batch and target batch\n",
    "    while True:\n",
    "\n",
    "        # Check if block and batches are correct\n",
    "        if (cur_block - prev_block == 1) and (cur_batch - prev_batch == 1) and (target_batch == cur_batch):\n",
    "            return [(prev_block, prev_batch),(cur_block, cur_batch)]\n",
    "\n",
    "        # If Current Batch is the same as the target batch, decrement the current block\n",
    "        elif cur_batch - target_batch >= 0:\n",
    "            prev_block, prev_batch = cur_block, cur_batch\n",
    "            cur_block, cur_batch = decrement_block(cur_block, cur_step)\n",
    "    \n",
    "        # If current batch is less than the target batch \n",
    "        elif cur_batch - target_batch < 0:\n",
    "            prev_block, prev_batch = cur_block, cur_batch\n",
    "            cur_block, cur_batch = increment_block(cur_block, cur_step)\n",
    "        \n",
    "        # Only divide by 2 if switching from increment and decrement\n",
    "        if cur_batch != prev_batch:\n",
    "            cur_step = max(cur_step // 2, 1)\n",
    "\n",
    "        #print(i, cur_block, prev_block, cur_batch, prev_batch, cur_step)\n"
   ]
  },
  {
   "cell_type": "code",
   "execution_count": 167,
   "metadata": {},
   "outputs": [
    {
     "name": "stderr",
     "output_type": "stream",
     "text": [
      "100%|██████████| 100/100 [05:43<00:00,  3.43s/it]\n"
     ]
    }
   ],
   "source": [
    "# Inputs\n",
    "next_block = 22207819 # starting block\n",
    "num_batches = 100 # How many batches to gather\n",
    "initial_step = 250 # Most batches have around 250 blocks in them today. This parameter should be changed based on the timeframe for faster results\n",
    "\n",
    "data = []\n",
    "\n",
    "\n",
    "for _ in tqdm.tqdm(range(num_batches)):\n",
    "    results = find_block_range(next_block, 250) \n",
    "    \n",
    "    next_block = results[1][0]\n",
    "    \n",
    "    data.extend(results)"
   ]
  },
  {
   "cell_type": "code",
   "execution_count": 168,
   "metadata": {},
   "outputs": [],
   "source": [
    "df = (\n",
    "    pd.DataFrame(data, columns=['block', 'batch'])\n",
    "    .set_index('block')\n",
    "    .reindex(index=pd.RangeIndex(data[0][0], data[-1][0]))\n",
    "    .reset_index()\n",
    "    .ffill()\n",
    "    .set_axis(['l2_block_number', 'batch_number'], axis=1)\n",
    ")"
   ]
  },
  {
   "cell_type": "code",
   "execution_count": 169,
   "metadata": {},
   "outputs": [],
   "source": [
    "import seaborn as sns"
   ]
  },
  {
   "cell_type": "code",
   "execution_count": 175,
   "metadata": {},
   "outputs": [
    {
     "data": {
      "text/plain": [
       "Text(0, 0.5, 'Batch Count')"
      ]
     },
     "execution_count": 175,
     "metadata": {},
     "output_type": "execute_result"
    },
    {
     "data": {
      "image/png": "[encoded data removed]",
      "text/plain": [
       "<Figure size 640x480 with 1 Axes>"
      ]
     },
     "metadata": {},
     "output_type": "display_data"
    }
   ],
   "source": [
    "ax = sns.histplot(\n",
    "    df.reset_index().groupby('batch_number').count()['index'].iloc[1:] # remove first batch since it's not a full batch\n",
    ")\n",
    "ax.set_xlabel('Number of Blocks in a Batch')\n",
    "ax.set_ylabel('Batch Count')\n"
   ]
  }
 ],
 "metadata": {
  "kernelspec": {
   "display_name": "base",
   "language": "python",
   "name": "python3"
  },
  "language_info": {
   "codemirror_mode": {
    "name": "ipython",
    "version": 3
   },
   "file_extension": ".py",
   "mimetype": "text/x-python",
   "name": "python",
   "nbconvert_exporter": "python",
   "pygments_lexer": "ipython3",
   "version": "3.12.4"
  },
  "orig_nbformat": 4
 },
 "nbformat": 4,
 "nbformat_minor": 2
}
